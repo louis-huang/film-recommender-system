{
 "cells": [
  {
   "cell_type": "markdown",
   "metadata": {},
   "source": [
    "## Final Project: Film Recommender System"
   ]
  },
  {
   "cell_type": "code",
   "execution_count": 1,
   "metadata": {},
   "outputs": [
    {
     "name": "stdout",
     "output_type": "stream",
     "text": [
      "/Users/louis/Desktop/MSPA/basic machine learning/final_submit/Recommender 2\n"
     ]
    }
   ],
   "source": [
    "cd /Users/louis/Desktop/MSPA/basic machine learning/final_submit/Recommender 2"
   ]
  },
  {
   "cell_type": "markdown",
   "metadata": {},
   "source": [
    "# Table of Contents"
   ]
  },
  {
   "cell_type": "markdown",
   "metadata": {},
   "source": [
    "1.[Initialize my recommender](#Start)\n",
    "\n",
    "2.[Customize the recommender](#Customize)\n",
    "\n",
    "3.[Compare with none-reranked, baseline and svd model](#Compare)\n",
    "\n",
    "4.[Retreive recommendations](#Normal_Recommend)\n",
    "\n",
    "5.[Rate films](#RateFilms)\n",
    "\n",
    "6.[Update all recommendations](#Update)\n",
    "\n",
    "7.[Appendix](#Appendix)"
   ]
  },
  {
   "cell_type": "markdown",
   "metadata": {},
   "source": [
    "## Start"
   ]
  },
  {
   "cell_type": "code",
   "execution_count": 2,
   "metadata": {
    "collapsed": true
   },
   "outputs": [],
   "source": [
    "from recommender_1 import Recommender"
   ]
  },
  {
   "cell_type": "code",
   "execution_count": 3,
   "metadata": {},
   "outputs": [
    {
     "name": "stdout",
     "output_type": "stream",
     "text": [
      "Welcome to Louis's Film Recommender!\n",
      "Done setting recommendations!\n",
      "Done initializing recommender!\n",
      "Type test.examples() for help if you are new.\n"
     ]
    }
   ],
   "source": [
    "test = Recommender()"
   ]
  },
  {
   "cell_type": "code",
   "execution_count": 4,
   "metadata": {},
   "outputs": [
    {
     "name": "stdout",
     "output_type": "stream",
     "text": [
      "672 False True True\n"
     ]
    }
   ],
   "source": [
    "print(test.my_id, test.isnew, test.my_recommend, test.random_rated)"
   ]
  },
  {
   "cell_type": "code",
   "execution_count": 10,
   "metadata": {},
   "outputs": [
    {
     "name": "stdout",
     "output_type": "stream",
     "text": [
      "Done retrieving NO.672 user's recommendations!!\n"
     ]
    },
    {
     "name": "stderr",
     "output_type": "stream",
     "text": [
      "/Users/louis/anaconda3/lib/python3.6/site-packages/sklearn/metrics/classification.py:1135: UndefinedMetricWarning: Precision is ill-defined and being set to 0.0 due to no predicted samples.\n",
      "  'precision', 'predicted', average, warn_for)\n",
      "/Users/louis/anaconda3/lib/python3.6/site-packages/sklearn/metrics/classification.py:1135: UndefinedMetricWarning: Precision is ill-defined and being set to 0.0 due to no predicted samples.\n",
      "  'precision', 'predicted', average, warn_for)\n",
      "/Users/louis/anaconda3/lib/python3.6/site-packages/sklearn/metrics/classification.py:1135: UndefinedMetricWarning: Precision is ill-defined and being set to 0.0 due to no predicted samples.\n",
      "  'precision', 'predicted', average, warn_for)\n",
      "/Users/louis/anaconda3/lib/python3.6/site-packages/sklearn/metrics/classification.py:1135: UndefinedMetricWarning: Precision is ill-defined and being set to 0.0 due to no predicted samples.\n",
      "  'precision', 'predicted', average, warn_for)\n"
     ]
    },
    {
     "name": "stdout",
     "output_type": "stream",
     "text": [
      "-------------Recommendations with reranking-------------\n",
      "Title: The Dark Knight \t Director: Christopher Nolan\n",
      "IMDB Rating: 8.3 \n",
      "\n",
      "Title: The Godfather \t Director: Francis Ford Coppola\n",
      "IMDB Rating: 8.5 \n",
      "\n",
      "Title: Step Into Liquid \t Director: Dana Brown\n",
      "IMDB Rating: 7.1 \n",
      "\n",
      "Title: When We Were Kings \t Director: Leon Gast\n",
      "IMDB Rating: 7.3 \n",
      "\n",
      "Title: Once Upon a Time in the West \t Director: Sergio Leone\n",
      "IMDB Rating: 8.1 \n",
      "\n",
      "Title: Taste of Cherry \t Director: Abbas Kiarostami\n",
      "IMDB Rating: 7.1 \n",
      "\n",
      "Title: Character \t Director: Mike van Diem\n",
      "IMDB Rating: 7.7 \n",
      "\n",
      "Title: Mifune \t Director: Søren Kragh-Jacobsen\n",
      "IMDB Rating: 6.8 \n",
      "\n",
      "Title: The King Is Alive \t Director: Kristian Levring\n",
      "IMDB Rating: 5.8 \n",
      "\n",
      "Title: Innocence \t Director: Paul Cox\n",
      "IMDB Rating: 5.0 \n",
      "\n"
     ]
    },
    {
     "name": "stderr",
     "output_type": "stream",
     "text": [
      "/Users/louis/anaconda3/lib/python3.6/site-packages/sklearn/metrics/classification.py:1135: UndefinedMetricWarning: Precision is ill-defined and being set to 0.0 due to no predicted samples.\n",
      "  'precision', 'predicted', average, warn_for)\n",
      "/Users/louis/anaconda3/lib/python3.6/site-packages/sklearn/metrics/classification.py:1135: UndefinedMetricWarning: Precision is ill-defined and being set to 0.0 due to no predicted samples.\n",
      "  'precision', 'predicted', average, warn_for)\n"
     ]
    }
   ],
   "source": [
    "test.recommend_me()"
   ]
  },
  {
   "cell_type": "markdown",
   "metadata": {},
   "source": [
    "## This list is very new to me! I have not seen 8 films of the list and I love the The Dark Night and The Godfather. And one of the films, Once Upon a Time is actually on my watch list."
   ]
  },
  {
   "cell_type": "markdown",
   "metadata": {},
   "source": [
    "## Customize"
   ]
  },
  {
   "cell_type": "markdown",
   "metadata": {},
   "source": [
    "## show my recommendations with my raw ratings"
   ]
  },
  {
   "cell_type": "code",
   "execution_count": 14,
   "metadata": {},
   "outputs": [
    {
     "name": "stdout",
     "output_type": "stream",
     "text": [
      "Done retrieving NO.672 user's recommendations!!\n",
      "No.672 user's all ratings:\n",
      "        userId  movieId  rating\n",
      "100004     672     4306     3.0\n",
      "100005     672   135536     3.0\n",
      "100006     672    80615     3.5\n",
      "100007     672    86880     2.5\n",
      "100008     672     1214     4.0\n",
      "100009     672   135133     2.5\n",
      "100010     672     1258     4.5\n",
      "100011     672    91529     5.0\n",
      "100012     672     2959     5.0\n",
      "100013     672    34150     3.0\n",
      "100014     672      904     4.0\n",
      "100015     672        1     4.0\n",
      "100016     672     1907     3.5\n",
      "100017     672      296     5.0\n",
      "100018     672   117529     4.0\n"
     ]
    },
    {
     "name": "stderr",
     "output_type": "stream",
     "text": [
      "/Users/louis/anaconda3/lib/python3.6/site-packages/sklearn/metrics/classification.py:1135: UndefinedMetricWarning: Precision is ill-defined and being set to 0.0 due to no predicted samples.\n",
      "  'precision', 'predicted', average, warn_for)\n",
      "/Users/louis/anaconda3/lib/python3.6/site-packages/sklearn/metrics/classification.py:1135: UndefinedMetricWarning: Precision is ill-defined and being set to 0.0 due to no predicted samples.\n",
      "  'precision', 'predicted', average, warn_for)\n",
      "/Users/louis/anaconda3/lib/python3.6/site-packages/sklearn/metrics/classification.py:1135: UndefinedMetricWarning: Precision is ill-defined and being set to 0.0 due to no predicted samples.\n",
      "  'precision', 'predicted', average, warn_for)\n",
      "/Users/louis/anaconda3/lib/python3.6/site-packages/sklearn/metrics/classification.py:1135: UndefinedMetricWarning: Precision is ill-defined and being set to 0.0 due to no predicted samples.\n",
      "  'precision', 'predicted', average, warn_for)\n",
      "/Users/louis/anaconda3/lib/python3.6/site-packages/sklearn/metrics/classification.py:1135: UndefinedMetricWarning: Precision is ill-defined and being set to 0.0 due to no predicted samples.\n",
      "  'precision', 'predicted', average, warn_for)\n"
     ]
    },
    {
     "name": "stdout",
     "output_type": "stream",
     "text": [
      "-------------Recommendations with reranking-------------\n",
      "Title: The Dark Knight \t Director: Christopher Nolan\n",
      "IMDB Rating: 8.3 \n",
      "\n",
      "Title: The Godfather \t Director: Francis Ford Coppola\n",
      "IMDB Rating: 8.5 \n",
      "\n",
      "Title: Step Into Liquid \t Director: Dana Brown\n",
      "IMDB Rating: 7.1 \n",
      "\n",
      "Title: When We Were Kings \t Director: Leon Gast\n",
      "IMDB Rating: 7.3 \n",
      "\n",
      "Title: Once Upon a Time in the West \t Director: Sergio Leone\n",
      "IMDB Rating: 8.1 \n",
      "\n",
      "Title: Taste of Cherry \t Director: Abbas Kiarostami\n",
      "IMDB Rating: 7.1 \n",
      "\n",
      "Title: Character \t Director: Mike van Diem\n",
      "IMDB Rating: 7.7 \n",
      "\n",
      "Title: Mifune \t Director: Søren Kragh-Jacobsen\n",
      "IMDB Rating: 6.8 \n",
      "\n",
      "Title: The King Is Alive \t Director: Kristian Levring\n",
      "IMDB Rating: 5.8 \n",
      "\n",
      "Title: Innocence \t Director: Paul Cox\n",
      "IMDB Rating: 5.0 \n",
      "\n"
     ]
    },
    {
     "name": "stderr",
     "output_type": "stream",
     "text": [
      "/Users/louis/anaconda3/lib/python3.6/site-packages/sklearn/metrics/classification.py:1135: UndefinedMetricWarning: Precision is ill-defined and being set to 0.0 due to no predicted samples.\n",
      "  'precision', 'predicted', average, warn_for)\n",
      "/Users/louis/anaconda3/lib/python3.6/site-packages/sklearn/metrics/classification.py:1135: UndefinedMetricWarning: Precision is ill-defined and being set to 0.0 due to no predicted samples.\n",
      "  'precision', 'predicted', average, warn_for)\n"
     ]
    }
   ],
   "source": [
    "test.recommend_me(show_rating = True)"
   ]
  },
  {
   "cell_type": "markdown",
   "metadata": {},
   "source": [
    "## show 20 and 25 results"
   ]
  },
  {
   "cell_type": "code",
   "execution_count": 7,
   "metadata": {
    "scrolled": true
   },
   "outputs": [
    {
     "name": "stderr",
     "output_type": "stream",
     "text": [
      "/Users/louis/anaconda3/lib/python3.6/site-packages/sklearn/metrics/classification.py:1135: UndefinedMetricWarning: Precision is ill-defined and being set to 0.0 due to no predicted samples.\n",
      "  'precision', 'predicted', average, warn_for)\n",
      "/Users/louis/anaconda3/lib/python3.6/site-packages/sklearn/metrics/classification.py:1135: UndefinedMetricWarning: Precision is ill-defined and being set to 0.0 due to no predicted samples.\n",
      "  'precision', 'predicted', average, warn_for)\n",
      "/Users/louis/anaconda3/lib/python3.6/site-packages/sklearn/metrics/classification.py:1135: UndefinedMetricWarning: Precision is ill-defined and being set to 0.0 due to no predicted samples.\n",
      "  'precision', 'predicted', average, warn_for)\n"
     ]
    },
    {
     "name": "stdout",
     "output_type": "stream",
     "text": [
      "Done retrieving NO.672 user's recommendations!!\n"
     ]
    },
    {
     "name": "stderr",
     "output_type": "stream",
     "text": [
      "/Users/louis/anaconda3/lib/python3.6/site-packages/sklearn/metrics/classification.py:1135: UndefinedMetricWarning: Precision is ill-defined and being set to 0.0 due to no predicted samples.\n",
      "  'precision', 'predicted', average, warn_for)\n"
     ]
    },
    {
     "name": "stdout",
     "output_type": "stream",
     "text": [
      "-------------Recommendations with reranking-------------\n",
      "Title: The Dark Knight \t Director: Christopher Nolan\n",
      "IMDB Rating: 8.3 \n",
      "\n",
      "Title: The Godfather \t Director: Francis Ford Coppola\n",
      "IMDB Rating: 8.5 \n",
      "\n",
      "Title: Step Into Liquid \t Director: Dana Brown\n",
      "IMDB Rating: 7.1 \n",
      "\n",
      "Title: When We Were Kings \t Director: Leon Gast\n",
      "IMDB Rating: 7.3 \n",
      "\n",
      "Title: Once Upon a Time in the West \t Director: Sergio Leone\n",
      "IMDB Rating: 8.1 \n",
      "\n",
      "Title: Taste of Cherry \t Director: Abbas Kiarostami\n",
      "IMDB Rating: 7.1 \n",
      "\n",
      "Title: Character \t Director: Mike van Diem\n",
      "IMDB Rating: 7.7 \n",
      "\n",
      "Title: Mifune \t Director: Søren Kragh-Jacobsen\n",
      "IMDB Rating: 6.8 \n",
      "\n",
      "Title: The King Is Alive \t Director: Kristian Levring\n",
      "IMDB Rating: 5.8 \n",
      "\n",
      "Title: Innocence \t Director: Paul Cox\n",
      "IMDB Rating: 5.0 \n",
      "\n",
      "Title: Maelström \t Director: Denis Villeneuve\n",
      "IMDB Rating: 6.3 \n",
      "\n",
      "Title: The Wrong Guy \t Director: David Steinberg\n",
      "IMDB Rating: 7.6 \n",
      "\n",
      "Title: Incendies \t Director: Denis Villeneuve\n",
      "IMDB Rating: 7.9 \n",
      "\n",
      "Title: I Know That Voice \t Director: Lawrence Shapiro\n",
      "IMDB Rating: 7.0 \n",
      "\n",
      "Title: Amazing Grace \t Director: Michael Apted\n",
      "IMDB Rating: 7.0 \n",
      "\n",
      "Title: Aparajito \t Director: Satyajit Ray\n",
      "IMDB Rating: 7.9 \n",
      "\n",
      "Title: Soul Kitchen \t Director: Fatih Akin\n",
      "IMDB Rating: 7.0 \n",
      "\n",
      "Title: A Face in the Crowd \t Director: Elia Kazan\n",
      "IMDB Rating: 7.4 \n",
      "\n",
      "Title: Good Morning, Babylon \t Director: Paolo Taviani|Vittorio Taviani\n",
      "IMDB Rating: 5.8 \n",
      "\n",
      "Title: The Night of the Shooting Stars \t Director: Paolo Taviani|Vittorio Taviani\n",
      "IMDB Rating: 6.3 \n",
      "\n"
     ]
    },
    {
     "name": "stderr",
     "output_type": "stream",
     "text": [
      "/Users/louis/anaconda3/lib/python3.6/site-packages/sklearn/metrics/classification.py:1135: UndefinedMetricWarning: Precision is ill-defined and being set to 0.0 due to no predicted samples.\n",
      "  'precision', 'predicted', average, warn_for)\n",
      "/Users/louis/anaconda3/lib/python3.6/site-packages/sklearn/metrics/classification.py:1135: UndefinedMetricWarning: Precision is ill-defined and being set to 0.0 due to no predicted samples.\n",
      "  'precision', 'predicted', average, warn_for)\n"
     ]
    }
   ],
   "source": [
    "test.recommend_me(n_reco = 20)"
   ]
  },
  {
   "cell_type": "code",
   "execution_count": 8,
   "metadata": {
    "scrolled": true
   },
   "outputs": [
    {
     "name": "stdout",
     "output_type": "stream",
     "text": [
      "Done retrieving NO.672 user's recommendations!!\n"
     ]
    },
    {
     "name": "stderr",
     "output_type": "stream",
     "text": [
      "/Users/louis/anaconda3/lib/python3.6/site-packages/sklearn/metrics/classification.py:1135: UndefinedMetricWarning: Precision is ill-defined and being set to 0.0 due to no predicted samples.\n",
      "  'precision', 'predicted', average, warn_for)\n",
      "/Users/louis/anaconda3/lib/python3.6/site-packages/sklearn/metrics/classification.py:1135: UndefinedMetricWarning: Precision is ill-defined and being set to 0.0 due to no predicted samples.\n",
      "  'precision', 'predicted', average, warn_for)\n",
      "/Users/louis/anaconda3/lib/python3.6/site-packages/sklearn/metrics/classification.py:1135: UndefinedMetricWarning: Precision is ill-defined and being set to 0.0 due to no predicted samples.\n",
      "  'precision', 'predicted', average, warn_for)\n"
     ]
    },
    {
     "name": "stdout",
     "output_type": "stream",
     "text": [
      "-------------Recommendations with reranking-------------\n",
      "Title: The Godfather \t Director: Francis Ford Coppola\n",
      "IMDB Rating: 8.5 \n",
      "\n",
      "Title: Step Into Liquid \t Director: Dana Brown\n",
      "IMDB Rating: 7.1 \n",
      "\n",
      "Title: When We Were Kings \t Director: Leon Gast\n",
      "IMDB Rating: 7.3 \n",
      "\n",
      "Title: Once Upon a Time in the West \t Director: Sergio Leone\n",
      "IMDB Rating: 8.1 \n",
      "\n",
      "Title: Taste of Cherry \t Director: Abbas Kiarostami\n",
      "IMDB Rating: 7.1 \n",
      "\n",
      "Title: Character \t Director: Mike van Diem\n",
      "IMDB Rating: 7.7 \n",
      "\n",
      "Title: Yojimbo \t Director: Akira Kurosawa\n",
      "IMDB Rating: 8.0 \n",
      "\n",
      "Title: Mifune \t Director: Søren Kragh-Jacobsen\n",
      "IMDB Rating: 6.8 \n",
      "\n",
      "Title: The King Is Alive \t Director: Kristian Levring\n",
      "IMDB Rating: 5.8 \n",
      "\n",
      "Title: Innocence \t Director: Paul Cox\n",
      "IMDB Rating: 5.0 \n",
      "\n",
      "Title: Maelström \t Director: Denis Villeneuve\n",
      "IMDB Rating: 6.3 \n",
      "\n",
      "Title: The Wrong Guy \t Director: David Steinberg\n",
      "IMDB Rating: 7.6 \n",
      "\n",
      "Title: Incendies \t Director: Denis Villeneuve\n",
      "IMDB Rating: 7.9 \n",
      "\n",
      "Title: I Know That Voice \t Director: Lawrence Shapiro\n",
      "IMDB Rating: 7.0 \n",
      "\n",
      "Title: Wild Tales \t Director: Damián Szifrón\n",
      "IMDB Rating: 7.7 \n",
      "\n",
      "Title: Seconds \t Director: John Frankenheimer\n",
      "IMDB Rating: 7.1 \n",
      "\n",
      "Title: Amazing Grace \t Director: Michael Apted\n",
      "IMDB Rating: 7.0 \n",
      "\n",
      "Title: Aparajito \t Director: Satyajit Ray\n",
      "IMDB Rating: 7.9 \n",
      "\n",
      "Title: Undertow \t Director: David Gordon Green\n",
      "IMDB Rating: 5.9 \n",
      "\n",
      "Title: Soul Kitchen \t Director: Fatih Akin\n",
      "IMDB Rating: 7.0 \n",
      "\n",
      "Title: A Face in the Crowd \t Director: Elia Kazan\n",
      "IMDB Rating: 7.4 \n",
      "\n",
      "Title: Good Morning, Babylon \t Director: Paolo Taviani|Vittorio Taviani\n",
      "IMDB Rating: 5.8 \n",
      "\n",
      "Title: The Night of the Shooting Stars \t Director: Paolo Taviani|Vittorio Taviani\n",
      "IMDB Rating: 6.3 \n",
      "\n",
      "Title: Offside \t Director: Jafar Panahi\n",
      "IMDB Rating: 6.7 \n",
      "\n",
      "Title: Fiorile \t Director: Paolo Taviani|Vittorio Taviani\n",
      "IMDB Rating: 7.0 \n",
      "\n"
     ]
    },
    {
     "name": "stderr",
     "output_type": "stream",
     "text": [
      "/Users/louis/anaconda3/lib/python3.6/site-packages/sklearn/metrics/classification.py:1135: UndefinedMetricWarning: Precision is ill-defined and being set to 0.0 due to no predicted samples.\n",
      "  'precision', 'predicted', average, warn_for)\n",
      "/Users/louis/anaconda3/lib/python3.6/site-packages/sklearn/metrics/classification.py:1135: UndefinedMetricWarning: Precision is ill-defined and being set to 0.0 due to no predicted samples.\n",
      "  'precision', 'predicted', average, warn_for)\n"
     ]
    }
   ],
   "source": [
    "test.recommend_me(n_reco = 25)"
   ]
  },
  {
   "cell_type": "markdown",
   "metadata": {},
   "source": [
    "## Retrieve non-reranked result"
   ]
  },
  {
   "cell_type": "code",
   "execution_count": 9,
   "metadata": {
    "scrolled": false
   },
   "outputs": [
    {
     "name": "stdout",
     "output_type": "stream",
     "text": [
      "Done retrieving NO.672 user's recommendations!!\n",
      "-------------Recommendations without reranking-------------\n",
      "Title: The Dark Knight \t Director: Christopher Nolan\n",
      "IMDB Rating: 8.3 \n",
      "\n",
      "Title: The Godfather \t Director: Francis Ford Coppola\n",
      "IMDB Rating: 8.5 \n",
      "\n",
      "Title: Step Into Liquid \t Director: Dana Brown\n",
      "IMDB Rating: 7.1 \n",
      "\n",
      "Title: The Art of War \t Director: Christian Duguay\n",
      "IMDB Rating: 5.6 \n",
      "\n",
      "Title: When We Were Kings \t Director: Leon Gast\n",
      "IMDB Rating: 7.3 \n",
      "\n",
      "Title: Once Upon a Time in the West \t Director: Sergio Leone\n",
      "IMDB Rating: 8.1 \n",
      "\n",
      "Title: Taste of Cherry \t Director: Abbas Kiarostami\n",
      "IMDB Rating: 7.1 \n",
      "\n",
      "Title: Character \t Director: Mike van Diem\n",
      "IMDB Rating: 7.7 \n",
      "\n",
      "Title: Yojimbo \t Director: Akira Kurosawa\n",
      "IMDB Rating: 8.0 \n",
      "\n",
      "Title: Mifune \t Director: Søren Kragh-Jacobsen\n",
      "IMDB Rating: 6.8 \n",
      "\n"
     ]
    }
   ],
   "source": [
    "test.recommend_me(rerank_ = False)"
   ]
  },
  {
   "cell_type": "markdown",
   "metadata": {},
   "source": [
    "## Compare"
   ]
  },
  {
   "cell_type": "markdown",
   "metadata": {},
   "source": [
    "## We can see there are only eight films in common when comparing reranked and non-reranked result. This means my recommendations changed their 2 films' rankings by content based model and pick out those films more similar to what I have rated high. This tim the change is not big, maybe because the original top rated films are something I would like, the mode will just keep them, but for those I might not like, they will repalce them with high updated ratings."
   ]
  },
  {
   "cell_type": "markdown",
   "metadata": {},
   "source": [
    "## Initialize baseline and svd model for comparison"
   ]
  },
  {
   "cell_type": "code",
   "execution_count": 11,
   "metadata": {},
   "outputs": [
    {
     "name": "stdout",
     "output_type": "stream",
     "text": [
      "Estimating biases using als...\n",
      "Done recommending using baseline model and SVD model.\n"
     ]
    }
   ],
   "source": [
    "test.bsl_recommend()"
   ]
  },
  {
   "cell_type": "code",
   "execution_count": 12,
   "metadata": {},
   "outputs": [
    {
     "name": "stdout",
     "output_type": "stream",
     "text": [
      "Done retrieving NO.672 user's recommendations!!\n",
      "------------baseline Model Recommendations------------------\n",
      "Title: The Shawshank Redemption \t Director: Frank Darabont\n",
      "IMDB Rating: 8.5 \n",
      "\n",
      "Title: The Godfather \t Director: Francis Ford Coppola\n",
      "IMDB Rating: 8.5 \n",
      "\n",
      "Title: The Godfather: Part II \t Director: Francis Ford Coppola\n",
      "IMDB Rating: 8.3 \n",
      "\n",
      "Title: The Usual Suspects \t Director: Bryan Singer\n",
      "IMDB Rating: 8.1 \n",
      "\n",
      "Title: The African Queen \t Director: John Huston\n",
      "IMDB Rating: 7.4 \n",
      "\n",
      "Title: Schindler's List \t Director: Steven Spielberg\n",
      "IMDB Rating: 8.3 \n",
      "\n",
      "Title: All About Eve \t Director: Joseph L. Mankiewicz\n",
      "IMDB Rating: 8.0 \n",
      "\n",
      "Title: Raging Bull \t Director: Martin Scorsese\n",
      "IMDB Rating: 7.7 \n",
      "\n",
      "Title: The Maltese Falcon \t Director: John Huston\n",
      "IMDB Rating: 7.8 \n",
      "\n",
      "Title: 12 Angry Men \t Director: Sidney Lumet\n",
      "IMDB Rating: 8.2 \n",
      "\n"
     ]
    }
   ],
   "source": [
    "test.bsl_recommend_user(user_id = 672, n_reco = 10, model = \"baseline\")"
   ]
  },
  {
   "cell_type": "code",
   "execution_count": 13,
   "metadata": {},
   "outputs": [
    {
     "name": "stdout",
     "output_type": "stream",
     "text": [
      "Done retrieving NO.672 user's recommendations!!\n",
      "------------svd Model Recommendations------------------\n",
      "Title: The Shawshank Redemption \t Director: Frank Darabont\n",
      "IMDB Rating: 8.5 \n",
      "\n",
      "Title: The Godfather \t Director: Francis Ford Coppola\n",
      "IMDB Rating: 8.5 \n",
      "\n",
      "Title: The Godfather: Part II \t Director: Francis Ford Coppola\n",
      "IMDB Rating: 8.3 \n",
      "\n",
      "Title: The Usual Suspects \t Director: Bryan Singer\n",
      "IMDB Rating: 8.1 \n",
      "\n",
      "Title: The African Queen \t Director: John Huston\n",
      "IMDB Rating: 7.4 \n",
      "\n",
      "Title: Schindler's List \t Director: Steven Spielberg\n",
      "IMDB Rating: 8.3 \n",
      "\n",
      "Title: All About Eve \t Director: Joseph L. Mankiewicz\n",
      "IMDB Rating: 8.0 \n",
      "\n",
      "Title: Raging Bull \t Director: Martin Scorsese\n",
      "IMDB Rating: 7.7 \n",
      "\n",
      "Title: The Maltese Falcon \t Director: John Huston\n",
      "IMDB Rating: 7.8 \n",
      "\n",
      "Title: 12 Angry Men \t Director: Sidney Lumet\n",
      "IMDB Rating: 8.2 \n",
      "\n"
     ]
    }
   ],
   "source": [
    "test.bsl_recommend_user(user_id = 672, n_reco = 10, model = \"svd\")"
   ]
  },
  {
   "cell_type": "markdown",
   "metadata": {},
   "source": [
    "## Then if we compare the result before with baseline model and svd model. We can clearly see the difference. These two models just give high mean rating films and their results are exactly the same. They all tend to predict films with higher global mean rating in order to minimize RMSE.\n",
    "\n",
    "## Compare my model's result with these two, there is just one film, Godfather, in common.  \n",
    "\n",
    "## My model is much better in variety and novelty."
   ]
  },
  {
   "cell_type": "markdown",
   "metadata": {},
   "source": [
    "## Compare baseline model in surprise for other random users to prove my argument"
   ]
  },
  {
   "cell_type": "code",
   "execution_count": 15,
   "metadata": {},
   "outputs": [
    {
     "name": "stdout",
     "output_type": "stream",
     "text": [
      "Done retrieving NO.10 user's recommendations!!\n",
      "------------baseline Model Recommendations------------------\n",
      "Title: The Godfather \t Director: Francis Ford Coppola\n",
      "IMDB Rating: 8.5 \n",
      "\n",
      "Title: The Godfather: Part II \t Director: Francis Ford Coppola\n",
      "IMDB Rating: 8.3 \n",
      "\n",
      "Title: The African Queen \t Director: John Huston\n",
      "IMDB Rating: 7.4 \n",
      "\n",
      "Title: Schindler's List \t Director: Steven Spielberg\n",
      "IMDB Rating: 8.3 \n",
      "\n",
      "Title: All About Eve \t Director: Joseph L. Mankiewicz\n",
      "IMDB Rating: 8.0 \n",
      "\n",
      "Title: Raging Bull \t Director: Martin Scorsese\n",
      "IMDB Rating: 7.7 \n",
      "\n",
      "Title: The Maltese Falcon \t Director: John Huston\n",
      "IMDB Rating: 7.8 \n",
      "\n",
      "Title: 12 Angry Men \t Director: Sidney Lumet\n",
      "IMDB Rating: 8.2 \n",
      "\n",
      "Title: Roger & Me \t Director: Michael Moore\n",
      "IMDB Rating: 7.4 \n",
      "\n",
      "Title: Chinatown \t Director: Roman Polanski\n",
      "IMDB Rating: 7.9 \n",
      "\n"
     ]
    }
   ],
   "source": [
    "test.bsl_recommend_user(user_id = 10, n_reco = 10, model = \"baseline\")"
   ]
  },
  {
   "cell_type": "code",
   "execution_count": 16,
   "metadata": {},
   "outputs": [
    {
     "name": "stdout",
     "output_type": "stream",
     "text": [
      "Done retrieving NO.400 user's recommendations!!\n",
      "------------baseline Model Recommendations------------------\n",
      "Title: The Godfather \t Director: Francis Ford Coppola\n",
      "IMDB Rating: 8.5 \n",
      "\n",
      "Title: The Godfather: Part II \t Director: Francis Ford Coppola\n",
      "IMDB Rating: 8.3 \n",
      "\n",
      "Title: The African Queen \t Director: John Huston\n",
      "IMDB Rating: 7.4 \n",
      "\n",
      "Title: All About Eve \t Director: Joseph L. Mankiewicz\n",
      "IMDB Rating: 8.0 \n",
      "\n",
      "Title: Raging Bull \t Director: Martin Scorsese\n",
      "IMDB Rating: 7.7 \n",
      "\n",
      "Title: The Maltese Falcon \t Director: John Huston\n",
      "IMDB Rating: 7.8 \n",
      "\n",
      "Title: 12 Angry Men \t Director: Sidney Lumet\n",
      "IMDB Rating: 8.2 \n",
      "\n",
      "Title: Roger & Me \t Director: Michael Moore\n",
      "IMDB Rating: 7.4 \n",
      "\n",
      "Title: Chinatown \t Director: Roman Polanski\n",
      "IMDB Rating: 7.9 \n",
      "\n",
      "Title: Casablanca \t Director: Michael Curtiz\n",
      "IMDB Rating: 7.9 \n",
      "\n"
     ]
    }
   ],
   "source": [
    "test.bsl_recommend_user(user_id = 400, n_reco = 10, model = \"baseline\")"
   ]
  },
  {
   "cell_type": "markdown",
   "metadata": {},
   "source": [
    "## We can see from above examples, baseline models gave any user very similar result. This is little personalized and can be considered as bad recommendations.\n",
    "\n",
    "## According this baseline algorithm global mean rating dominates this rating formula to minimize RMSE, while user's bias and item bias did very little contribution.\n",
    "\n",
    "## r̂ ui=bui=μ+bu+bi\n"
   ]
  },
  {
   "cell_type": "markdown",
   "metadata": {},
   "source": [
    "## Compare SVD model in surprise"
   ]
  },
  {
   "cell_type": "code",
   "execution_count": 17,
   "metadata": {},
   "outputs": [
    {
     "name": "stdout",
     "output_type": "stream",
     "text": [
      "Done retrieving NO.10 user's recommendations!!\n",
      "------------svd Model Recommendations------------------\n",
      "Title: The Godfather \t Director: Francis Ford Coppola\n",
      "IMDB Rating: 8.5 \n",
      "\n",
      "Title: The Godfather: Part II \t Director: Francis Ford Coppola\n",
      "IMDB Rating: 8.3 \n",
      "\n",
      "Title: The African Queen \t Director: John Huston\n",
      "IMDB Rating: 7.4 \n",
      "\n",
      "Title: Schindler's List \t Director: Steven Spielberg\n",
      "IMDB Rating: 8.3 \n",
      "\n",
      "Title: All About Eve \t Director: Joseph L. Mankiewicz\n",
      "IMDB Rating: 8.0 \n",
      "\n",
      "Title: Raging Bull \t Director: Martin Scorsese\n",
      "IMDB Rating: 7.7 \n",
      "\n",
      "Title: The Maltese Falcon \t Director: John Huston\n",
      "IMDB Rating: 7.8 \n",
      "\n",
      "Title: 12 Angry Men \t Director: Sidney Lumet\n",
      "IMDB Rating: 8.2 \n",
      "\n",
      "Title: Roger & Me \t Director: Michael Moore\n",
      "IMDB Rating: 7.4 \n",
      "\n",
      "Title: Chinatown \t Director: Roman Polanski\n",
      "IMDB Rating: 7.9 \n",
      "\n"
     ]
    }
   ],
   "source": [
    "test.bsl_recommend_user(user_id = 10, n_reco = 10, model = \"svd\")"
   ]
  },
  {
   "cell_type": "code",
   "execution_count": 18,
   "metadata": {},
   "outputs": [
    {
     "name": "stdout",
     "output_type": "stream",
     "text": [
      "Done retrieving NO.400 user's recommendations!!\n",
      "------------svd Model Recommendations------------------\n",
      "Title: The Godfather \t Director: Francis Ford Coppola\n",
      "IMDB Rating: 8.5 \n",
      "\n",
      "Title: The Godfather: Part II \t Director: Francis Ford Coppola\n",
      "IMDB Rating: 8.3 \n",
      "\n",
      "Title: The African Queen \t Director: John Huston\n",
      "IMDB Rating: 7.4 \n",
      "\n",
      "Title: All About Eve \t Director: Joseph L. Mankiewicz\n",
      "IMDB Rating: 8.0 \n",
      "\n",
      "Title: Raging Bull \t Director: Martin Scorsese\n",
      "IMDB Rating: 7.7 \n",
      "\n",
      "Title: The Maltese Falcon \t Director: John Huston\n",
      "IMDB Rating: 7.8 \n",
      "\n",
      "Title: 12 Angry Men \t Director: Sidney Lumet\n",
      "IMDB Rating: 8.2 \n",
      "\n",
      "Title: Roger & Me \t Director: Michael Moore\n",
      "IMDB Rating: 7.4 \n",
      "\n",
      "Title: Chinatown \t Director: Roman Polanski\n",
      "IMDB Rating: 7.9 \n",
      "\n",
      "Title: Casablanca \t Director: Michael Curtiz\n",
      "IMDB Rating: 7.9 \n",
      "\n"
     ]
    }
   ],
   "source": [
    "test.bsl_recommend_user(user_id = 400, n_reco = 10, model = \"svd\")"
   ]
  },
  {
   "cell_type": "markdown",
   "metadata": {},
   "source": [
    "## Same things happened here if  we use matrix factorization based model. You can see they gave same recommendations. So they have the same problem. It minimize variance but has little bias upon users."
   ]
  },
  {
   "cell_type": "markdown",
   "metadata": {},
   "source": [
    "## Normal_Recommend"
   ]
  },
  {
   "cell_type": "markdown",
   "metadata": {},
   "source": [
    "## Default recommend"
   ]
  },
  {
   "cell_type": "code",
   "execution_count": 19,
   "metadata": {},
   "outputs": [
    {
     "name": "stdout",
     "output_type": "stream",
     "text": [
      "Done retrieving NO.123 user's recommendations!!\n",
      "-------------Recommendations with reranking-------------\n",
      "Title: Boiling Point \t Director: James B. Harris\n",
      "IMDB Rating: 4.6 \n",
      "\n",
      "Title: Aria \t Director: Jean-Luc Godard|Bruce Beresford|Robert Altman|Nicolas Roeg|Julien Temple|Ken Russell|Franc Roddam|Charles Sturridge|Derek Jarman|Bill Bryden\n",
      "IMDB Rating: 6.2 \n",
      "\n",
      "Title: Walker \t Director: Alex Cox\n",
      "IMDB Rating: 6.4 \n",
      "\n",
      "Title: Diabolique \t Director: Henri-Georges Clouzot\n",
      "IMDB Rating: 7.9 \n",
      "\n",
      "Title: Masquerade \t Director: Bob Swaim\n",
      "IMDB Rating: 5.2 \n",
      "\n",
      "Title: Happiness \t Director: Todd Solondz\n",
      "IMDB Rating: 7.4 \n",
      "\n",
      "Title: Ice Age: The Great Egg-Scapade \t Director: Ricardo Curtis\n",
      "IMDB Rating: 5.7 \n",
      "\n",
      "Title: Dream a Little Dream \t Director: Marc Rocco\n",
      "IMDB Rating: 5.8 \n",
      "\n",
      "Title: Hair \t Director: Miloš Forman\n",
      "IMDB Rating: 7.3 \n",
      "\n",
      "Title: The Manson Family \t Director: Jim VanBebber\n",
      "IMDB Rating: 3.6 \n",
      "\n"
     ]
    }
   ],
   "source": [
    "test.recommend_user(user_id = 123)"
   ]
  },
  {
   "cell_type": "markdown",
   "metadata": {},
   "source": [
    "## Randomly retreive a user's recommendations and his/her raw ratings"
   ]
  },
  {
   "cell_type": "code",
   "execution_count": 20,
   "metadata": {},
   "outputs": [
    {
     "name": "stdout",
     "output_type": "stream",
     "text": [
      "Done retrieving NO.334 user's recommendations!!\n",
      "No.334 user's all ratings:\n",
      "       userId  movieId  rating\n",
      "46149     334        1     5.0\n",
      "46150     334      260     4.0\n",
      "46151     334      296     5.0\n",
      "46152     334      318     4.0\n",
      "46153     334      356     5.0\n",
      "46154     334      778     3.0\n",
      "46155     334      858     5.0\n",
      "46156     334     1917     3.0\n",
      "46157     334     2028     5.0\n",
      "46158     334     2355     3.0\n",
      "46159     334     2571     4.0\n",
      "46160     334     2959     4.0\n",
      "46161     334     3147     4.0\n",
      "46162     334     3462     5.0\n",
      "46163     334     6016     5.0\n",
      "46164     334     6874     3.5\n",
      "46165     334     8873     3.0\n",
      "46166     334    44191     3.5\n",
      "46167     334    46578     3.0\n",
      "46168     334    48394     3.0\n",
      "46169     334    55721     4.5\n",
      "46170     334    60069     4.0\n",
      "46171     334    68954     3.5\n",
      "46172     334    79132     4.0\n",
      "46173     334    81834     2.0\n",
      "46174     334    85342     4.0\n",
      "46175     334    99114     5.0\n",
      "46176     334   106100     4.5\n",
      "46177     334   112552     4.5\n",
      "46178     334   115713     3.0\n",
      "46179     334   116797     4.0\n",
      "46180     334   117444     4.0\n",
      "46181     334   122882     4.5\n",
      "46182     334   134853     4.0\n",
      "-------------Recommendations with reranking-------------\n",
      "Title: The Godfather: Part II \t Director: Francis Ford Coppola\n",
      "IMDB Rating: 8.3 \n",
      "\n",
      "Title: The Dark Knight \t Director: Christopher Nolan\n",
      "IMDB Rating: 8.3 \n",
      "\n",
      "Title: The Kid \t Director: Charlie Chaplin\n",
      "IMDB Rating: 8.0 \n",
      "\n",
      "Title: The Wolf of Wall Street \t Director: Martin Scorsese\n",
      "IMDB Rating: 7.9 \n",
      "\n",
      "Title: Hachi: A Dog's Tale \t Director: Lasse Hallström\n",
      "IMDB Rating: 7.7 \n",
      "\n",
      "Title: Above the Law \t Director: Andrew Davis\n",
      "IMDB Rating: 5.9 \n",
      "\n",
      "Title: Rollerball \t Director: Norman Jewison\n",
      "IMDB Rating: 6.0 \n",
      "\n",
      "Title: Paradise Now \t Director: Hany Abu-Assad\n",
      "IMDB Rating: 6.9 \n",
      "\n",
      "Title: Carandiru \t Director: Hector Babenco\n",
      "IMDB Rating: 7.1 \n",
      "\n",
      "Title: Wolf Children \t Director: Mamoru Hosoda\n",
      "IMDB Rating: 8.0 \n",
      "\n"
     ]
    }
   ],
   "source": [
    "test.random_user(show_rating = True)"
   ]
  },
  {
   "cell_type": "markdown",
   "metadata": {},
   "source": [
    "## RateFilms"
   ]
  },
  {
   "cell_type": "markdown",
   "metadata": {},
   "source": [
    "## Rate films randomly just for fun!!!"
   ]
  },
  {
   "cell_type": "code",
   "execution_count": 21,
   "metadata": {},
   "outputs": [
    {
     "name": "stdout",
     "output_type": "stream",
     "text": [
      "Attention: Enter -1 to skip this film. If you want to end and save the ratings, enter 11. If you don't want to save, enter 12 or close the program.\n",
      "————————————————————————————————————————\n",
      "\n",
      "\n",
      "The Hunger Games: Mockingjay - Part 1 \n",
      " Francis Lawrence\n",
      "Give your ratings:3\n",
      "————————————————————————————————————————\n",
      "We have recorded 1 entries data. Keep rating! \n",
      "\n",
      "Planet of the Apes \n",
      " Franklin J. Schaffner\n",
      "Give your ratings:4\n",
      "————————————————————————————————————————\n",
      "We have recorded 2 entries data. Keep rating! \n",
      "\n",
      "Prince of Persia: The Sands of Time \n",
      " Mike Newell\n",
      "Give your ratings:-1\n",
      "————————————————————————————————————————\n",
      "The Hunger Games: Mockingjay - Part 2 \n",
      " Francis Lawrence\n",
      "Give your ratings:3\n",
      "————————————————————————————————————————\n",
      "We have recorded 3 entries data. Keep rating! \n",
      "\n",
      "The Hangover Part II \n",
      " Todd Phillips\n",
      "Give your ratings:-1\n",
      "————————————————————————————————————————\n",
      "Disturbia \n",
      " D.J. Caruso\n",
      "Give your ratings:-1\n",
      "————————————————————————————————————————\n",
      "Showgirls \n",
      " Paul Verhoeven\n",
      "Give your ratings:12\n",
      "————————————————————————————————————————\n"
     ]
    }
   ],
   "source": [
    "test.rate_for_fun(novelty = 1)"
   ]
  },
  {
   "cell_type": "markdown",
   "metadata": {},
   "source": [
    "## Change novelty level to get some surprise film! And save ratings if you want to add to your profile."
   ]
  },
  {
   "cell_type": "code",
   "execution_count": 22,
   "metadata": {},
   "outputs": [
    {
     "name": "stdout",
     "output_type": "stream",
     "text": [
      "Attention: Enter -1 to skip this film. If you want to end and save the ratings, enter 11. If you don't want to save, enter 12 or close the program.\n",
      "————————————————————————————————————————\n",
      "\n",
      "\n",
      "Stories We Tell \n",
      " Sarah Polley\n",
      "Give your ratings:-1\n",
      "————————————————————————————————————————\n",
      "Children of Men \n",
      " Alfonso Cuarón\n",
      "Give your ratings:4.5\n",
      "————————————————————————————————————————\n",
      "We have recorded 1 entries data. Keep rating! \n",
      "\n",
      "The 40 Year Old Virgin \n",
      " Judd Apatow\n",
      "Give your ratings:-1\n",
      "————————————————————————————————————————\n",
      "Stonehearst Asylum \n",
      " Brad Anderson\n",
      "Give your ratings:-1\n",
      "————————————————————————————————————————\n",
      "Friday Night Lights \n",
      " Peter Berg\n",
      "Give your ratings:-1\n",
      "————————————————————————————————————————\n",
      "Hitch \n",
      " Andy Tennant\n",
      "Give your ratings:-1\n",
      "————————————————————————————————————————\n",
      "Outlander \n",
      " Howard McCain\n",
      "Give your ratings:-1\n",
      "————————————————————————————————————————\n",
      "The Sea Inside \n",
      " Alejandro Amenábar\n",
      "Give your ratings:11\n",
      "————————————————————————————————————————\n",
      "Done saving your profile\n"
     ]
    }
   ],
   "source": [
    "test.rate_for_fun(novelty = 5)"
   ]
  },
  {
   "cell_type": "markdown",
   "metadata": {},
   "source": [
    "## Rate a film you just watch!!! Use IMDB id."
   ]
  },
  {
   "cell_type": "code",
   "execution_count": 23,
   "metadata": {},
   "outputs": [
    {
     "data": {
      "text/plain": [
       "672"
      ]
     },
     "execution_count": 23,
     "metadata": {},
     "output_type": "execute_result"
    }
   ],
   "source": [
    "test.my_id"
   ]
  },
  {
   "cell_type": "code",
   "execution_count": 25,
   "metadata": {},
   "outputs": [
    {
     "name": "stdout",
     "output_type": "stream",
     "text": [
      "Your user id is 672\n",
      "What's the imdb id of the film?Please don't enter tt in the imdb id.0120915\n",
      "The film is Star Wars: Episode I - The Phantom Menace\n",
      "Your rating is:4.5\n",
      "Do you want to continue? Press 1 to continue. Otherwise press -1.-1\n",
      "Done saving your profile\n",
      "Your data has saved and we have updated user rating file.\n"
     ]
    }
   ],
   "source": [
    "test.rate(user_id = 672)"
   ]
  },
  {
   "cell_type": "markdown",
   "metadata": {},
   "source": [
    "## I just rated several films and we can check if my recommendations change."
   ]
  },
  {
   "cell_type": "markdown",
   "metadata": {},
   "source": [
    "## Update"
   ]
  },
  {
   "cell_type": "markdown",
   "metadata": {},
   "source": [
    "## Just see my result change"
   ]
  },
  {
   "cell_type": "code",
   "execution_count": 26,
   "metadata": {},
   "outputs": [
    {
     "name": "stdout",
     "output_type": "stream",
     "text": [
      "Calculating.........................It might take 2~5 mins depending on your computer\n",
      "Computing the msd similarity matrix...\n",
      "Done computing similarity matrix.\n",
      "Computing the msd similarity matrix...\n",
      "Done computing similarity matrix.\n",
      "Learned weights [ 0.51226836  0.48773164]\n",
      "Done recommending you!!!\n",
      "Almost there!!!!!! Be patient!!!!\n",
      "Done retrieving NO.672 user's recommendations!!\n",
      "-------------Recommendations with reranking-------------\n",
      "Title: The Dark Knight \t Director: Christopher Nolan\n",
      "IMDB Rating: 8.3 \n",
      "\n",
      "Title: Guardians of the Galaxy \t Director: James Gunn\n",
      "IMDB Rating: 7.9 \n",
      "\n",
      "Title: Boiling Point \t Director: James B. Harris\n",
      "IMDB Rating: 4.6 \n",
      "\n",
      "Title: Above the Law \t Director: Andrew Davis\n",
      "IMDB Rating: 5.9 \n",
      "\n",
      "Title: The Art of War \t Director: Christian Duguay\n",
      "IMDB Rating: 5.6 \n",
      "\n",
      "Title: Seconds \t Director: John Frankenheimer\n",
      "IMDB Rating: 7.1 \n",
      "\n",
      "Title: Ice Age: The Great Egg-Scapade \t Director: Ricardo Curtis\n",
      "IMDB Rating: 5.7 \n",
      "\n",
      "Title: Wolf Children \t Director: Mamoru Hosoda\n",
      "IMDB Rating: 8.0 \n",
      "\n",
      "Title: The Enforcer \t Director: James Fargo\n",
      "IMDB Rating: 6.7 \n",
      "\n",
      "Title: The Boxtrolls \t Director: Anthony Stacchi|Graham Annable\n",
      "IMDB Rating: 6.6 \n",
      "\n"
     ]
    }
   ],
   "source": [
    "test.recommend_me()"
   ]
  },
  {
   "cell_type": "code",
   "execution_count": 27,
   "metadata": {},
   "outputs": [
    {
     "name": "stdout",
     "output_type": "stream",
     "text": [
      "Done retrieving NO.672 user's recommendations!!\n",
      "No.672 user's all ratings:\n",
      "        userId  movieId  rating\n",
      "100004     672     4306     3.0\n",
      "100005     672   135536     3.0\n",
      "100006     672    80615     3.5\n",
      "100007     672    86880     2.5\n",
      "100008     672     1214     4.0\n",
      "100009     672   135133     2.5\n",
      "100010     672     1258     4.5\n",
      "100011     672    91529     5.0\n",
      "100012     672     2959     5.0\n",
      "100013     672    34150     3.0\n",
      "100014     672      904     4.0\n",
      "100015     672        1     4.0\n",
      "100016     672     1907     3.5\n",
      "100017     672      296     5.0\n",
      "100018     672   117529     4.0\n",
      "100019     672    48774     4.5\n",
      "100020     672    39183     3.5\n",
      "100021     672      215     4.0\n",
      "100022     672     2628     4.5\n",
      "-------------Recommendations with reranking-------------\n",
      "Title: The Dark Knight \t Director: Christopher Nolan\n",
      "IMDB Rating: 8.3 \n",
      "\n",
      "Title: Guardians of the Galaxy \t Director: James Gunn\n",
      "IMDB Rating: 7.9 \n",
      "\n",
      "Title: Boiling Point \t Director: James B. Harris\n",
      "IMDB Rating: 4.6 \n",
      "\n",
      "Title: Above the Law \t Director: Andrew Davis\n",
      "IMDB Rating: 5.9 \n",
      "\n",
      "Title: The Art of War \t Director: Christian Duguay\n",
      "IMDB Rating: 5.6 \n",
      "\n",
      "Title: Seconds \t Director: John Frankenheimer\n",
      "IMDB Rating: 7.1 \n",
      "\n",
      "Title: Ice Age: The Great Egg-Scapade \t Director: Ricardo Curtis\n",
      "IMDB Rating: 5.7 \n",
      "\n",
      "Title: Wolf Children \t Director: Mamoru Hosoda\n",
      "IMDB Rating: 8.0 \n",
      "\n",
      "Title: The Enforcer \t Director: James Fargo\n",
      "IMDB Rating: 6.7 \n",
      "\n",
      "Title: The Boxtrolls \t Director: Anthony Stacchi|Graham Annable\n",
      "IMDB Rating: 6.6 \n",
      "\n"
     ]
    }
   ],
   "source": [
    "test.recommend_user(user_id = 672, show_rating = True)"
   ]
  },
  {
   "cell_type": "markdown",
   "metadata": {},
   "source": [
    "## We can see there are nine new films on the top 10 recommendation list. The system is learning more about me so it updates both ratings part and model part to predict my result better. Some changes is very smooth, for example, I rated star war and it gives me Guardians of the Galaxy this time. But I rated Children of Men, then it gives me Wolf Children because of same word in titles. This might be improved in the future. All in all we can see it learns something useful from the content."
   ]
  },
  {
   "cell_type": "markdown",
   "metadata": {},
   "source": [
    "## See all updates"
   ]
  },
  {
   "cell_type": "code",
   "execution_count": 30,
   "metadata": {},
   "outputs": [
    {
     "name": "stdout",
     "output_type": "stream",
     "text": [
      "Calculating.........................It might take 10~15 mins depending on your computer\n",
      "Computing the msd similarity matrix...\n",
      "Done computing similarity matrix.\n",
      "Computing the msd similarity matrix...\n",
      "Done computing similarity matrix.\n",
      "Learned weights [ 0.51226836  0.48773164]\n",
      "Done updating all users' recommendations!!!\n"
     ]
    }
   ],
   "source": [
    "test.update_all()"
   ]
  },
  {
   "cell_type": "code",
   "execution_count": 31,
   "metadata": {},
   "outputs": [
    {
     "name": "stdout",
     "output_type": "stream",
     "text": [
      "Done retrieving NO.289 user's recommendations!!\n",
      "-------------Recommendations with reranking-------------\n",
      "Title: Center Stage \t Director: Nicholas Hytner\n",
      "IMDB Rating: 6.8 \n",
      "\n",
      "Title: How to Train Your Dragon \t Director: Chris Sanders|Dean DeBlois\n",
      "IMDB Rating: 7.5 \n",
      "\n",
      "Title: Wish Upon a Star \t Director: Blair Treu\n",
      "IMDB Rating: 6.2 \n",
      "\n",
      "Title: The Martian \t Director: Ridley Scott\n",
      "IMDB Rating: 7.6 \n",
      "\n",
      "Title: American Beauty \t Director: Sam Mendes\n",
      "IMDB Rating: 7.9 \n",
      "\n",
      "Title: God Bless America \t Director: Bobcat Goldthwait\n",
      "IMDB Rating: 7.0 \n",
      "\n",
      "Title: Bobby \t Director: Emilio Estevez\n",
      "IMDB Rating: 6.4 \n",
      "\n",
      "Title: Transamerica \t Director: Duncan Tucker\n",
      "IMDB Rating: 6.9 \n",
      "\n",
      "Title: The Room \t Director: Tommy Wiseau\n",
      "IMDB Rating: 4.3 \n",
      "\n",
      "Title: Son of the Bride \t Director: Juan José Campanella\n",
      "IMDB Rating: 7.3 \n",
      "\n"
     ]
    }
   ],
   "source": [
    "test.random_user()"
   ]
  },
  {
   "cell_type": "markdown",
   "metadata": {},
   "source": [
    "## We can also update all result with baseline and svd model based to see if there is anything different"
   ]
  },
  {
   "cell_type": "code",
   "execution_count": 32,
   "metadata": {},
   "outputs": [
    {
     "name": "stdout",
     "output_type": "stream",
     "text": [
      "Estimating biases using als...\n",
      "Done recommending using baseline model and SVD model.\n"
     ]
    }
   ],
   "source": [
    "test.bsl_recommend()"
   ]
  },
  {
   "cell_type": "code",
   "execution_count": 33,
   "metadata": {
    "scrolled": true
   },
   "outputs": [
    {
     "name": "stdout",
     "output_type": "stream",
     "text": [
      "Done retrieving NO.672 user's recommendations!!\n",
      "------------baseline Model Recommendations------------------\n",
      "Title: The Shawshank Redemption \t Director: Frank Darabont\n",
      "IMDB Rating: 8.5 \n",
      "\n",
      "Title: The Godfather \t Director: Francis Ford Coppola\n",
      "IMDB Rating: 8.5 \n",
      "\n",
      "Title: The Godfather: Part II \t Director: Francis Ford Coppola\n",
      "IMDB Rating: 8.3 \n",
      "\n",
      "Title: The Usual Suspects \t Director: Bryan Singer\n",
      "IMDB Rating: 8.1 \n",
      "\n",
      "Title: The African Queen \t Director: John Huston\n",
      "IMDB Rating: 7.4 \n",
      "\n",
      "Title: Schindler's List \t Director: Steven Spielberg\n",
      "IMDB Rating: 8.3 \n",
      "\n",
      "Title: All About Eve \t Director: Joseph L. Mankiewicz\n",
      "IMDB Rating: 8.0 \n",
      "\n",
      "Title: Raging Bull \t Director: Martin Scorsese\n",
      "IMDB Rating: 7.7 \n",
      "\n",
      "Title: The Maltese Falcon \t Director: John Huston\n",
      "IMDB Rating: 7.8 \n",
      "\n",
      "Title: 12 Angry Men \t Director: Sidney Lumet\n",
      "IMDB Rating: 8.2 \n",
      "\n"
     ]
    }
   ],
   "source": [
    "test.bsl_recommend_user(user_id = 672, model = \"baseline\")"
   ]
  },
  {
   "cell_type": "markdown",
   "metadata": {},
   "source": [
    "## Here is my new recommendation by baseline and svd model after rating more films."
   ]
  },
  {
   "cell_type": "code",
   "execution_count": 34,
   "metadata": {},
   "outputs": [
    {
     "name": "stdout",
     "output_type": "stream",
     "text": [
      "Done retrieving NO.672 user's recommendations!!\n",
      "------------svd Model Recommendations------------------\n",
      "Title: The Shawshank Redemption \t Director: Frank Darabont\n",
      "IMDB Rating: 8.5 \n",
      "\n",
      "Title: The Godfather \t Director: Francis Ford Coppola\n",
      "IMDB Rating: 8.5 \n",
      "\n",
      "Title: The Godfather: Part II \t Director: Francis Ford Coppola\n",
      "IMDB Rating: 8.3 \n",
      "\n",
      "Title: The Usual Suspects \t Director: Bryan Singer\n",
      "IMDB Rating: 8.1 \n",
      "\n",
      "Title: The African Queen \t Director: John Huston\n",
      "IMDB Rating: 7.4 \n",
      "\n",
      "Title: Schindler's List \t Director: Steven Spielberg\n",
      "IMDB Rating: 8.3 \n",
      "\n",
      "Title: All About Eve \t Director: Joseph L. Mankiewicz\n",
      "IMDB Rating: 8.0 \n",
      "\n",
      "Title: Raging Bull \t Director: Martin Scorsese\n",
      "IMDB Rating: 7.7 \n",
      "\n",
      "Title: The Maltese Falcon \t Director: John Huston\n",
      "IMDB Rating: 7.8 \n",
      "\n",
      "Title: 12 Angry Men \t Director: Sidney Lumet\n",
      "IMDB Rating: 8.2 \n",
      "\n"
     ]
    }
   ],
   "source": [
    "test.bsl_recommend_user(user_id = 672, model = \"svd\")"
   ]
  },
  {
   "cell_type": "markdown",
   "metadata": {},
   "source": [
    "## The baseline and svd model didn't change. This again proves my argument these two model consider little user bias into the prediciton. They just give each user very similar result."
   ]
  },
  {
   "cell_type": "markdown",
   "metadata": {},
   "source": [
    "## Conclusion"
   ]
  },
  {
   "cell_type": "markdown",
   "metadata": {},
   "source": [
    "## Reranking based on content is very effective for making the recommendation more personalized. Because of some drawbacks of the dataset, most model based recommendation models tend to predict global mean ratings for each film instead of giving more bias towards user or item."
   ]
  },
  {
   "cell_type": "markdown",
   "metadata": {},
   "source": [
    "## Appendix"
   ]
  },
  {
   "cell_type": "markdown",
   "metadata": {},
   "source": [
    "## All available functions and their introductions"
   ]
  },
  {
   "cell_type": "code",
   "execution_count": 35,
   "metadata": {},
   "outputs": [
    {
     "name": "stdout",
     "output_type": "stream",
     "text": [
      "1:test.recommend_user(user_id = 11, rerank_ = True, n_reco = 10, show_rating = False)\n",
      "\n",
      "This is the function to get a specific user's recommendation.\n",
      "        \n",
      "        Parameters:\n",
      "        \n",
      "        user_id: From 1 to 671. Should be integer.\n",
      "            If you have run recommend_me, you can use your own user_id.\n",
      "            Default is 10.\n",
      "        rerank_: True or False\n",
      "            Decide whether to rerank the result or not.\n",
      "            Default is True.\n",
      "        n_reco: From 10 - 90. Should be integer.\n",
      "            Decide how many results you want.\n",
      "            Default is 10.\n",
      "        show_rating: True or False.\n",
      "            Decide whether or not to show the user's all ratings.\n",
      "            Default is False.\n",
      "\n",
      "2:test.random_user(rerank_ = True, n_reco = 10, show_rating = False)\n",
      "\n",
      "Function to randomly retrieve a user's recommendation.\n",
      "        \n",
      "        Parameters:\n",
      "            \n",
      "        rerank_: True or False\n",
      "            Decide whether to rerank the result or not.\n",
      "            Default is True.\n",
      "        n_reco: From 10 - 90. Should be integer.\n",
      "            Decide how many results you want.\n",
      "            Default is 10.\n",
      "        show_rating: True or False.\n",
      "            Decide whether or not to show the user's all ratings.\n",
      "            Default is False.\n",
      "\n",
      "3:test.recommend_me(rerank_ = True, n_reco = 10, show_rating = False):\n",
      "        \n",
      "This is the function to get a your recommendations.\n",
      "        \n",
      "        Parameters:\n",
      "\n",
      "        rerank_: True or False\n",
      "            Decide whether to rerank the result or not.\n",
      "            Default is True.\n",
      "        n_reco: From 10 - 90. Should be integer.\n",
      "            Decide how many results you want.\n",
      "            Default is 10.\n",
      "        show_rating: True or False.\n",
      "            Decide whether or not to show the user's all ratings.\n",
      "            Default is False.\n",
      "\n",
      "The recommender will choose some films for you to rate until you rated 15 films we will move on to learning your data. Please enter your ratings from 1 to 5 (including 1 and 5) and press return(enter) on your keyboard. We accept float numbers.\n",
      "If you haven't seen this film, you can type -1 and press return(enter) to move on to next film. \n",
      "The test has limited number of films so if you haven't watched all of them, please watch them and then come back to rate!\n",
      "If you did wrong in entering the ratings. We will not save your previous data and we have to start over.\n",
      "If you are a new user or you rate new films and save the data, this process will take a while, please be patient.\n",
      "\n",
      "4:test.rate(user_id = 672)\n",
      "\n",
      "Function to rate new films.\n",
      "        \n",
      "        Parameters:\n",
      "        \n",
      "        user_id: Your user id. Default is 672. Should be greater than 671 since smaller number are original users, you should't update their ratings.\n",
      "        \n",
      "Type test.rate() or test.rate(user_id = YOUR USER ID). If you only only runs recommend me once. Then your user id is 672(default) then you don't need to enter your id.\n",
      "Attention: Ple\n",
      "We will not delete your user ratings when you close the recommender. And when you open the recommender next time, the system will use the latest version of user rating file.\n",
      "So please be careful when you rate a film. And you might re-rate a film since we haven't created new function to help you overlap your old ratings.\n",
      "\n",
      "5.test.save()\n",
      "\n",
      "Function to save user's information.\n",
      "\n",
      "6.test.rate_for_fun(novelty = 1)\n",
      "\n",
      "Function to rate films randomly.\n",
      "        \n",
      "        Parameter:\n",
      "        \n",
      "        Novelty: From 1- 30. Should be integer.\n",
      "            The degree of the film's novelty you want. Bigger number means more surprise!\n",
      "The process is same as the cold starter rating function.\n",
      "Attention: Enter -1 to skip this film. If you want to end and save the ratings, enter 11. If you don't want to save, enter 12 or close the program.\n",
      "\n",
      "\n",
      "7.test.reset()\n",
      "\n",
      "Type test.reset() to reset every thing! But I won't delete any files actually. Just reset the data to the original one\n",
      "\n",
      "8.test.bsl_recommend_user(user_id = 10, n_reco = 10, model = \"baseline\"):\n",
      "\n",
      "        This is the function to get a specific user's baseline model recommendation.\n",
      "        \n",
      "        Parameters:\n",
      "        \n",
      "        user_id: From 1 to 671. Should be integer.\n",
      "            If you have run recommend_me, you can use your own user_id.\n",
      "            Default is 10.\n",
      "        n_reco: From 10 - 90. Should be integer.\n",
      "            Decide how many results you want.\n",
      "            Default is 10.\n",
      "        model: baseline or svd. Should be string format.\n",
      "            The model you want to compare.\n",
      "\n",
      "9.test.bsl_recommend()\n",
      "\n",
      "Function to calculate recommendations. Use it if you add new data.\n",
      "\n",
      "10.test.update_all()\n",
      "\n",
      "Update all users' recommendations.\n",
      "\n"
     ]
    }
   ],
   "source": [
    "test.examples()"
   ]
  }
 ],
 "metadata": {
  "kernelspec": {
   "display_name": "Python 3",
   "language": "python",
   "name": "python3"
  },
  "language_info": {
   "codemirror_mode": {
    "name": "ipython",
    "version": 3
   },
   "file_extension": ".py",
   "mimetype": "text/x-python",
   "name": "python",
   "nbconvert_exporter": "python",
   "pygments_lexer": "ipython3",
   "version": "3.6.3"
  }
 },
 "nbformat": 4,
 "nbformat_minor": 2
}
