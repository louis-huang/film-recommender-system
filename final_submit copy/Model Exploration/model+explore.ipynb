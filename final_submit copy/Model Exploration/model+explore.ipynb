{
 "cells": [
  {
   "cell_type": "code",
   "execution_count": 3,
   "metadata": {},
   "outputs": [
    {
     "name": "stdout",
     "output_type": "stream",
     "text": [
      "/Users/louis/Desktop/MSPA/basic machine learning/final/the-movies-dataset\n"
     ]
    }
   ],
   "source": [
    "cd /Users/louis/Desktop/MSPA/basic machine learning/final/the-movies-dataset"
   ]
  },
  {
   "cell_type": "code",
   "execution_count": 40,
   "metadata": {},
   "outputs": [],
   "source": [
    "import pandas as pd\n",
    "from sklearn.model_selection import train_test_split\n",
    "from surprise.model_selection import PredefinedKFold\n",
    "from surprise.model_selection import cross_validate, KFold\n",
    "from surprise import Dataset, Reader\n",
    "import hybrid\n",
    "from surprise import KNNWithMeans, SVD, SVDpp, CoClustering, NMF, SlopeOne, KNNWithZScore,NormalPredictor, BaselineOnly\n",
    "from surprise import accuracy\n",
    "from collections import defaultdict\n",
    "from sigweight import KNNSigWeighting\n",
    "import pickle\n",
    "from surprise.model_selection import GridSearchCV\n",
    "from sklearn.pipeline import Pipeline\n",
    "import numpy as np"
   ]
  },
  {
   "cell_type": "code",
   "execution_count": 5,
   "metadata": {
    "collapsed": true
   },
   "outputs": [],
   "source": [
    "reader = Reader(line_format='user item rating', sep=',', skip_lines=1)\n",
    "data = Dataset.load_from_file(\"ratings_small.csv\", reader = reader)\n",
    "random_state = 20\n",
    "cv = KFold(n_splits = 5, random_state = random_state)"
   ]
  },
  {
   "cell_type": "code",
   "execution_count": 30,
   "metadata": {},
   "outputs": [
    {
     "name": "stdout",
     "output_type": "stream",
     "text": [
      "Estimating biases using als...\n",
      "Estimating biases using als...\n",
      "Estimating biases using als...\n",
      "Estimating biases using als...\n",
      "Estimating biases using als...\n",
      "Evaluating RMSE of algorithm BaselineOnly on 5 split(s).\n",
      "\n",
      "                  Fold 1  Fold 2  Fold 3  Fold 4  Fold 5  Mean    Std     \n",
      "RMSE (testset)    0.8922  0.9002  0.8890  0.8965  0.8888  0.8933  0.0044  \n",
      "Fit time          0.09    0.09    0.09    0.07    0.06    0.08    0.01    \n",
      "Test time         0.12    0.14    0.11    0.11    0.13    0.12    0.01    \n"
     ]
    }
   ],
   "source": [
    "bsl = BaselineOnly()\n",
    "rmse1 = cross_validate(bsl, data, verbose=True, cv = cv, measures = ['RMSE'])"
   ]
  },
  {
   "cell_type": "code",
   "execution_count": 55,
   "metadata": {},
   "outputs": [
    {
     "name": "stdout",
     "output_type": "stream",
     "text": [
      "Computing the msd similarity matrix...\n",
      "Done computing similarity matrix.\n",
      "Computing the msd similarity matrix...\n",
      "Done computing similarity matrix.\n",
      "Computing the msd similarity matrix...\n",
      "Done computing similarity matrix.\n",
      "Computing the msd similarity matrix...\n",
      "Done computing similarity matrix.\n",
      "Computing the msd similarity matrix...\n",
      "Done computing similarity matrix.\n",
      "Evaluating RMSE of algorithm KNNWithMeans on 5 split(s).\n",
      "\n",
      "                  Fold 1  Fold 2  Fold 3  Fold 4  Fold 5  Mean    Std     \n",
      "RMSE (testset)    0.9917  0.9962  0.9899  1.0011  0.9901  0.9938  0.0043  \n",
      "Fit time          0.20    0.28    0.27    0.32    0.26    0.27    0.04    \n",
      "Test time         1.36    1.40    1.33    1.11    0.70    1.18    0.26    \n"
     ]
    }
   ],
   "source": [
    "user_knn = KNNWithMeans(k = 3, sim_options={'user_based': True})\n",
    "rmse2 = cross_validate(user_knn, data, verbose=True, cv = cv, measures = ['RMSE'])"
   ]
  },
  {
   "cell_type": "code",
   "execution_count": 54,
   "metadata": {},
   "outputs": [
    {
     "name": "stdout",
     "output_type": "stream",
     "text": [
      "Computing the msd similarity matrix...\n",
      "Computing the msd similarity matrix...\n",
      "Computing the msd similarity matrix...\n",
      "Computing the msd similarity matrix...\n",
      "Done computing similarity matrix.\n",
      "Done computing similarity matrix.\n",
      "Done computing similarity matrix.\n",
      "Done computing similarity matrix.\n",
      "Computing the msd similarity matrix...\n",
      "Done computing similarity matrix.\n",
      "Evaluating RMSE of algorithm KNNWithMeans on 5 split(s).\n",
      "\n",
      "                  Fold 1  Fold 2  Fold 3  Fold 4  Fold 5  Mean    Std     \n",
      "RMSE (testset)    1.0179  1.0218  1.0154  1.0207  1.0194  1.0190  0.0022  \n",
      "Fit time          10.68   10.44   10.96   10.76   3.77    9.32    2.78    \n",
      "Test time         7.51    7.58    7.30    7.17    3.19    6.55    1.69    \n"
     ]
    }
   ],
   "source": [
    "item_knn = KNNWithMeans(k = 3, sim_options={'user_based': False})\n",
    "rmse2_2 = cross_validate(item_knn, data, verbose=True, cv = cv, measures = ['RMSE'])"
   ]
  },
  {
   "cell_type": "code",
   "execution_count": 17,
   "metadata": {},
   "outputs": [
    {
     "name": "stdout",
     "output_type": "stream",
     "text": [
      "Computing the msd similarity matrix...\n",
      "Done computing similarity matrix.\n",
      "Computing the msd similarity matrix...\n",
      "Done computing similarity matrix.\n",
      "Computing the msd similarity matrix...\n",
      "Done computing similarity matrix.\n",
      "Computing the msd similarity matrix...\n",
      "Done computing similarity matrix.\n",
      "Computing the msd similarity matrix...\n",
      "Done computing similarity matrix.\n",
      "Evaluating RMSE of algorithm KNNSigWeighting on 5 split(s).\n",
      "\n",
      "                  Fold 1  Fold 2  Fold 3  Fold 4  Fold 5  Mean    Std     \n",
      "RMSE (testset)    0.9763  0.9792  0.9673  0.9778  0.9689  0.9739  0.0048  \n",
      "Fit time          4.76    4.73    4.92    4.79    2.28    4.29    1.01    \n",
      "Test time         1.33    1.42    1.24    1.14    0.72    1.17    0.24    \n",
      "Computing the msd similarity matrix...\n",
      "Computing the msd similarity matrix...\n",
      "Computing the msd similarity matrix...\n",
      "Computing the msd similarity matrix...\n",
      "Done computing similarity matrix.\n",
      "Done computing similarity matrix.\n",
      "Done computing similarity matrix.\n",
      "Done computing similarity matrix.\n",
      "Computing the msd similarity matrix...\n",
      "Done computing similarity matrix.\n",
      "Evaluating RMSE of algorithm KNNSigWeighting on 5 split(s).\n",
      "\n",
      "                  Fold 1  Fold 2  Fold 3  Fold 4  Fold 5  Mean    Std     \n",
      "RMSE (testset)    0.9687  0.9715  0.9668  0.9744  0.9771  0.9717  0.0037  \n",
      "Fit time          201.59  200.17  199.19  197.63  87.43   177.20  44.91   \n",
      "Test time         6.86    7.41    7.52    7.45    3.06    6.46    1.72    \n"
     ]
    }
   ],
   "source": [
    "user_knn_weight = KNNSigWeighting(k = 3,sim_options={'user_based': True})\n",
    "item_knn_weight = KNNSigWeighting(k = 3, sim_options={'user_based': False})\n",
    "rmse3 = cross_validate(user_knn_weight, data, verbose=True, cv = cv, measures = ['RMSE'])\n",
    "rmse4 = cross_validate(item_knn_weight, data, verbose=True, cv = cv, measures = ['RMSE'])"
   ]
  },
  {
   "cell_type": "code",
   "execution_count": 24,
   "metadata": {},
   "outputs": [
    {
     "name": "stdout",
     "output_type": "stream",
     "text": [
      "Computing the msd similarity matrix...\n",
      "Done computing similarity matrix.\n",
      "Computing the msd similarity matrix...\n",
      "Done computing similarity matrix.\n",
      "Computing the msd similarity matrix...\n",
      "Done computing similarity matrix.\n",
      "Computing the msd similarity matrix...\n",
      "Done computing similarity matrix.\n",
      "Computing the msd similarity matrix...\n",
      "Computing the msd similarity matrix...\n",
      "Computing the msd similarity matrix...\n",
      "Computing the msd similarity matrix...\n",
      "Done computing similarity matrix.\n",
      "Done computing similarity matrix.\n",
      "Done computing similarity matrix.\n",
      "Done computing similarity matrix.\n",
      "Learned weights [ 0.42710102  0.57289898]\n",
      "Learned weights [ 0.43462275  0.56537725]\n",
      "Learned weights [ 0.42534939  0.57465061]\n",
      "Learned weights [ 0.43553693  0.56446307]\n",
      "Computing the msd similarity matrix...\n",
      "Done computing similarity matrix.\n",
      "Computing the msd similarity matrix...\n",
      "Done computing similarity matrix.\n",
      "Learned weights [ 0.42294895  0.57705105]\n",
      "Evaluating RMSE of algorithm WeightedHybrid on 5 split(s).\n",
      "\n",
      "                  Fold 1  Fold 2  Fold 3  Fold 4  Fold 5  Mean    Std     \n",
      "RMSE (testset)    0.9166  0.9199  0.9137  0.9211  0.9197  0.9182  0.0027  \n",
      "Fit time          241.86  239.94  239.03  237.81  106.09  212.94  53.44   \n",
      "Test time         8.59    9.39    9.49    9.75    3.91    8.23    2.19    \n"
     ]
    }
   ],
   "source": [
    "hybrid_knn_weight = hybrid.WeightedHybrid([user_knn_weight, item_knn_weight])\n",
    "rmse5 = cross_validate(hybrid_knn_weight, data, verbose=True, cv = cv, measures = ['RMSE'])"
   ]
  },
  {
   "cell_type": "code",
   "execution_count": 27,
   "metadata": {},
   "outputs": [
    {
     "name": "stdout",
     "output_type": "stream",
     "text": [
      "Computing the msd similarity matrix...\n",
      "Done computing similarity matrix.\n",
      "Computing the msd similarity matrix...\n",
      "Computing the msd similarity matrix...\n",
      "Done computing similarity matrix.\n",
      "Done computing similarity matrix.\n",
      "Computing the msd similarity matrix...\n",
      "Done computing similarity matrix.\n",
      "Computing the msd similarity matrix...\n",
      "Done computing similarity matrix.\n",
      "Evaluating RMSE of algorithm KNNWithZScore on 5 split(s).\n",
      "\n",
      "                  Fold 1  Fold 2  Fold 3  Fold 4  Fold 5  Mean    Std     \n",
      "RMSE (testset)    1.0042  1.0106  1.0063  1.0166  1.0010  1.0077  0.0054  \n",
      "Fit time          0.26    0.46    0.40    0.37    0.35    0.37    0.06    \n",
      "Test time         1.60    1.51    1.47    1.22    0.71    1.30    0.32    \n",
      "Computing the msd similarity matrix...\n",
      "Computing the msd similarity matrix...\n",
      "Computing the msd similarity matrix...\n",
      "Computing the msd similarity matrix...\n",
      "Done computing similarity matrix.\n",
      "Done computing similarity matrix.\n",
      "Done computing similarity matrix.\n",
      "Done computing similarity matrix.\n",
      "Computing the msd similarity matrix...\n",
      "Done computing similarity matrix.\n",
      "Evaluating RMSE of algorithm KNNWithZScore on 5 split(s).\n",
      "\n",
      "                  Fold 1  Fold 2  Fold 3  Fold 4  Fold 5  Mean    Std     \n",
      "RMSE (testset)    1.0292  1.0373  1.0303  1.0356  1.0349  1.0335  0.0031  \n",
      "Fit time          10.53   10.43   10.37   10.26   4.03    9.12    2.55    \n",
      "Test time         7.54    7.56    7.61    7.47    2.99    6.64    1.82    \n"
     ]
    }
   ],
   "source": [
    "user_knnz = KNNWithZScore(k = 3, sim_options={'user_based': True})\n",
    "item_knnz = KNNWithZScore(k = 3, sim_options={'user_based': False})\n",
    "rmse6 = cross_validate(user_knnz, data, verbose=True, cv = cv, measures = ['RMSE'])\n",
    "rmse7 = cross_validate(item_knnz, data, verbose=True, cv = cv, measures = ['RMSE'])\n"
   ]
  },
  {
   "cell_type": "code",
   "execution_count": 28,
   "metadata": {},
   "outputs": [
    {
     "name": "stdout",
     "output_type": "stream",
     "text": [
      "Evaluating RMSE of algorithm SVD on 5 split(s).\n",
      "\n",
      "                  Fold 1  Fold 2  Fold 3  Fold 4  Fold 5  Mean    Std     \n",
      "RMSE (testset)    0.8977  0.9038  0.8935  0.8982  0.8922  0.8971  0.0041  \n",
      "Fit time          7.42    7.49    7.77    7.56    4.30    6.91    1.31    \n",
      "Test time         0.42    0.40    0.27    0.27    0.12    0.30    0.11    \n",
      "Computing the msd similarity matrix...\n",
      "Computing the msd similarity matrix...\n",
      "Computing the msd similarity matrix...\n",
      "Computing the msd similarity matrix...\n",
      "Done computing similarity matrix.\n",
      "Done computing similarity matrix.\n",
      "Done computing similarity matrix.\n",
      "Done computing similarity matrix.\n",
      "Computing the msd similarity matrix...\n",
      "Done computing similarity matrix.\n",
      "Evaluating RMSE of algorithm KNNWithZScore on 5 split(s).\n",
      "\n",
      "                  Fold 1  Fold 2  Fold 3  Fold 4  Fold 5  Mean    Std     \n",
      "RMSE (testset)    1.0292  1.0373  1.0303  1.0356  1.0349  1.0335  0.0031  \n",
      "Fit time          8.30    8.23    8.34    8.43    3.87    7.44    1.78    \n",
      "Test time         6.97    7.01    6.96    6.74    3.09    6.15    1.53    \n",
      "Computing the msd similarity matrix...\n",
      "Done computing similarity matrix.\n",
      "Computing the msd similarity matrix...\n",
      "Computing the msd similarity matrix...\n",
      "Done computing similarity matrix.\n",
      "Computing the msd similarity matrix...\n",
      "Done computing similarity matrix.\n",
      "Done computing similarity matrix.\n",
      "Computing the msd similarity matrix...\n",
      "Done computing similarity matrix.\n",
      "Evaluating RMSE of algorithm KNNWithZScore on 5 split(s).\n",
      "\n",
      "                  Fold 1  Fold 2  Fold 3  Fold 4  Fold 5  Mean    Std     \n",
      "RMSE (testset)    1.0042  1.0106  1.0063  1.0166  1.0010  1.0077  0.0054  \n",
      "Fit time          0.23    0.31    0.45    0.42    0.31    0.35    0.08    \n",
      "Test time         1.47    1.60    1.46    1.25    0.72    1.30    0.31    \n"
     ]
    }
   ],
   "source": [
    "svd = SVD()\n",
    "slopeone = SlopeOne()\n",
    "nmf = NMF()\n",
    "rmse8 = cross_validate(svd, data, verbose=True, cv = cv, measures = ['RMSE'])\n",
    "rmse9 = cross_validate(item_knnz, data, verbose=True, cv = cv, measures = ['RMSE'])\n",
    "rmse10 = cross_validate(user_knnz, data, verbose=True, cv = cv, measures = ['RMSE'])"
   ]
  },
  {
   "cell_type": "code",
   "execution_count": 61,
   "metadata": {},
   "outputs": [],
   "source": [
    "rmse = np.stack((rmse1['test_rmse'],rmse2['test_rmse'],rmse2_2['test_rmse'], rmse3['test_rmse'],\n",
    "         rmse4['test_rmse'],rmse5['test_rmse'],rmse6['test_rmse'],\n",
    "         rmse7['test_rmse'],rmse8['test_rmse'],rmse9['test_rmse'],rmse10['test_rmse']))"
   ]
  },
  {
   "cell_type": "code",
   "execution_count": 62,
   "metadata": {},
   "outputs": [
    {
     "data": {
      "text/plain": [
       "array([[ 0.89224257,  0.90022124,  0.88895455,  0.89645073,  0.88881498],\n",
       "       [ 0.99173704,  0.99619915,  0.98990262,  1.00112181,  0.99011474],\n",
       "       [ 1.01787119,  1.02178156,  1.01542473,  1.02074671,  1.01935463],\n",
       "       [ 0.97633944,  0.97919061,  0.96729746,  0.97777475,  0.96889823],\n",
       "       [ 0.96870227,  0.97154392,  0.96680686,  0.97444585,  0.97711404],\n",
       "       [ 0.91659057,  0.91987346,  0.9136801 ,  0.92106106,  0.91966883],\n",
       "       [ 1.00415293,  1.01056862,  1.00628812,  1.01662829,  1.00098045],\n",
       "       [ 1.02919334,  1.03727855,  1.03034831,  1.0355527 ,  1.03493893],\n",
       "       [ 0.89767235,  0.90383058,  0.89350679,  0.89823427,  0.8921646 ],\n",
       "       [ 1.02919334,  1.03727855,  1.03034831,  1.0355527 ,  1.03493893],\n",
       "       [ 1.00415293,  1.01056862,  1.00628812,  1.01662829,  1.00098045]])"
      ]
     },
     "execution_count": 62,
     "metadata": {},
     "output_type": "execute_result"
    }
   ],
   "source": [
    "rmse"
   ]
  },
  {
   "cell_type": "code",
   "execution_count": 63,
   "metadata": {},
   "outputs": [],
   "source": [
    "import matplotlib.pyplot as plt"
   ]
  },
  {
   "cell_type": "code",
   "execution_count": 64,
   "metadata": {
    "collapsed": true
   },
   "outputs": [],
   "source": [
    "rmse = pd.DataFrame(rmse.T)"
   ]
  },
  {
   "cell_type": "code",
   "execution_count": 65,
   "metadata": {},
   "outputs": [],
   "source": [
    "rmse.columns = [\"BaselineOnly\",\"user_knn\",\"item_knn\",\"user_knn_weight\",\"item_knn_weight\",\n",
    "               \"hybrid_knn_weight\",\"user_knn_zscore\",\"item_knn_zscore\",\"SVD\",\"Slopeone\",\"NMF\"]"
   ]
  },
  {
   "cell_type": "code",
   "execution_count": 76,
   "metadata": {},
   "outputs": [
    {
     "data": {
      "image/png": "[encoded data removed]",
      "text/plain": [
       "<matplotlib.figure.Figure at 0x1a14052b00>"
      ]
     },
     "metadata": {},
     "output_type": "display_data"
    }
   ],
   "source": [
    "fig, ax = plt.subplots()\n",
    "ax.plot(rmse)\n",
    "ax.legend(rmse.columns,bbox_to_anchor=(1.05, 1.05))\n",
    "plt.show()"
   ]
  },
  {
   "cell_type": "code",
   "execution_count": 79,
   "metadata": {},
   "outputs": [
    {
     "name": "stdout",
     "output_type": "stream",
     "text": [
      "Computing the msd similarity matrix...\n",
      "Done computing similarity matrix.\n",
      "Computing the msd similarity matrix...\n",
      "Done computing similarity matrix.\n",
      "Learned weights [ 0.48775829  0.51224171]\n"
     ]
    }
   ],
   "source": [
    "all_train = data.build_full_trainset()\n",
    "hybrid_knn_weight.fit(all_train)\n",
    "all_test = all_train.build_anti_testset()\n",
    "predictions = hybrid_knn_weight.test(all_test)\n"
   ]
  },
  {
   "cell_type": "code",
   "execution_count": 80,
   "metadata": {},
   "outputs": [
    {
     "name": "stdout",
     "output_type": "stream",
     "text": [
      "Estimating biases using als...\n"
     ]
    },
    {
     "data": {
      "text/plain": [
       "<surprise.prediction_algorithms.matrix_factorization.SVD at 0x1a1111b5f8>"
      ]
     },
     "execution_count": 80,
     "metadata": {},
     "output_type": "execute_result"
    }
   ],
   "source": [
    "bsl.fit(all_train)\n",
    "svd.fit(all_train)"
   ]
  },
  {
   "cell_type": "code",
   "execution_count": 82,
   "metadata": {
    "collapsed": true
   },
   "outputs": [],
   "source": [
    "pred_bsl = bsl.test(all_test)\n",
    "pred_svd = svd.test(all_test)"
   ]
  },
  {
   "cell_type": "code",
   "execution_count": 99,
   "metadata": {
    "collapsed": true
   },
   "outputs": [],
   "source": [
    "def get_top_n(predictions, n=10):\n",
    "   \n",
    "    # First map the predictions to each user.\n",
    "    top_n = defaultdict(list)\n",
    "    for uid, iid, true_r, est, _ in predictions:\n",
    "        top_n[uid].append((iid, est))\n",
    "\n",
    "    # Then sort the predictions for each user and retrieve the k highest ones.\n",
    "    for uid, user_ratings in top_n.items():\n",
    "        user_ratings.sort(key=lambda x: x[1], reverse=True)\n",
    "        top_n[uid] = user_ratings[:n]\n",
    "\n",
    "    return top_n"
   ]
  },
  {
   "cell_type": "code",
   "execution_count": 108,
   "metadata": {},
   "outputs": [],
   "source": [
    "pred_1 = get_top_n(predictions, 100)\n",
    "pred_2 = get_top_n(pred_bsl, 100)\n",
    "pred_3 = get_top_n(pred_svd, 100)"
   ]
  },
  {
   "cell_type": "code",
   "execution_count": 109,
   "metadata": {},
   "outputs": [],
   "source": [
    "pred_1 = pd.DataFrame(pred_1['1'], columns = ['movieId','predicted_rating'])"
   ]
  },
  {
   "cell_type": "code",
   "execution_count": 110,
   "metadata": {},
   "outputs": [],
   "source": [
    "pred_2 = pd.DataFrame(pred_2['1'], columns = ['movieId','predicted_rating'])\n",
    "pred_3 = pd.DataFrame(pred_3['1'], columns = ['movieId','predicted_rating'])"
   ]
  },
  {
   "cell_type": "code",
   "execution_count": 118,
   "metadata": {
    "collapsed": true
   },
   "outputs": [],
   "source": [
    "ratings = [pred_1.predicted_rating,pred_2.predicted_rating,pred_3.predicted_rating]"
   ]
  },
  {
   "cell_type": "code",
   "execution_count": 127,
   "metadata": {},
   "outputs": [
    {
     "data": {
      "image/png": "[encoded data removed]",
      "text/plain": [
       "<matplotlib.figure.Figure at 0x1da7c0de48>"
      ]
     },
     "metadata": {},
     "output_type": "display_data"
    }
   ],
   "source": [
    "plt.plot(pred_1.predicted_rating)\n",
    "plt.plot(pred_2.predicted_rating)\n",
    "plt.plot(pred_3.predicted_rating)\n",
    "plt.legend([\"weighted hybrid\",\"Baseline\",\"SVD\"])\n",
    "plt.title(\"Predicted Rating for No.1 user from three models\")\n",
    "plt.ylabel(\"Rating\")\n",
    "plt.xlabel(\"Rank\")\n",
    "plt.show()"
   ]
  }
 ],
 "metadata": {
  "kernelspec": {
   "display_name": "Python 3",
   "language": "python",
   "name": "python3"
  },
  "language_info": {
   "codemirror_mode": {
    "name": "ipython",
    "version": 3
   },
   "file_extension": ".py",
   "mimetype": "text/x-python",
   "name": "python",
   "nbconvert_exporter": "python",
   "pygments_lexer": "ipython3",
   "version": "3.6.3"
  }
 },
 "nbformat": 4,
 "nbformat_minor": 2
}
